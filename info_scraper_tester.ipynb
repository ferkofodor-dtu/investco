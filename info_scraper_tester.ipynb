{
 "cells": [
  {
   "cell_type": "code",
   "execution_count": 1,
   "metadata": {},
   "outputs": [],
   "source": [
    "%load_ext autoreload\n",
    "%autoreload 2"
   ]
  },
  {
   "cell_type": "code",
   "execution_count": 2,
   "metadata": {},
   "outputs": [],
   "source": [
    "import yfinance as yf\n",
    "import pandas as pd\n",
    "from tqdm import tqdm\n",
    "import os\n",
    "import time"
   ]
  },
  {
   "cell_type": "code",
   "execution_count": 3,
   "metadata": {},
   "outputs": [
    {
     "name": "stdout",
     "output_type": "stream",
     "text": [
      "Ticker file for SPY exists at test_data\\SPY\\tickers.txt.\n",
      "Ticker file for FSE exists at test_data\\FSE\\tickers.txt.\n"
     ]
    }
   ],
   "source": [
    "from utils import get_ticker_info, read_ticker_list, load_ticker_info\n",
    "from pathlib import Path\n",
    "import time\n",
    "\n",
    "\n",
    "se_list = ['SPY', 'FSE']\n",
    "path_parent = Path('./test_data')\n",
    "save_info = True\n",
    "ticker_limit = 5\n",
    "\n",
    "info_dict = {}\n",
    "se_dict = {se: [] for se in se_list}\n",
    "\n",
    "for se in se_list:\n",
    "    info_dict[se] = {}\n",
    "    path = Path('./test_data') / se / 'tickers.txt'\n",
    "    if not path.exists():\n",
    "        print(f\"Ticker file for {se} does not exist at {path}.\")\n",
    "    else:\n",
    "        print(f\"Ticker file for {se} exists at {path}.\")\n",
    "    tickers = read_ticker_list(path_parent / se / 'tickers.txt')\n",
    "    se_dict[se] = tickers[:ticker_limit]"
   ]
  },
  {
   "cell_type": "code",
   "execution_count": 4,
   "metadata": {},
   "outputs": [
    {
     "name": "stdout",
     "output_type": "stream",
     "text": [
      "Processing 5 tickers for SPY.\n",
      "Saving info for MMM in SPY.\n",
      "Saving info for AOS in SPY.\n",
      "Saving info for ABT in SPY.\n",
      "Saving info for ABBV in SPY.\n",
      "Saving info for ACN in SPY.\n",
      "Processing 5 tickers for FSE.\n",
      "Saving info for ABI.BR in FSE.\n",
      "Saving info for NOKIA.HE in FSE.\n",
      "Saving info for NDA-FI.HE in FSE.\n",
      "Saving info for AI.PA in FSE.\n",
      "Saving info for AIR.PA in FSE.\n"
     ]
    }
   ],
   "source": [
    "for se, tickers in se_dict.items():\n",
    "    print(f\"Processing {len(tickers)} tickers for {se}.\")\n",
    "    for t in tickers:\n",
    "        info = get_ticker_info(t)\n",
    "        if save_info:\n",
    "            print(f\"Saving info for {t} in {se}.\")\n",
    "\n",
    "        if save_info:\n",
    "            ticker_path = path_parent / se / t\n",
    "            ticker_path.mkdir(parents=True, exist_ok=True)\n",
    "            filepath = path_parent / se / t / f\"info.json\"\n",
    "\n",
    "            info = get_ticker_info(t, save_path=filepath)\n",
    "        else:\n",
    "            info = get_ticker_info(t)"
   ]
  },
  {
   "cell_type": "code",
   "execution_count": 5,
   "metadata": {},
   "outputs": [],
   "source": [
    "for se, tickers in se_dict.items():\n",
    "    for t in tickers:\n",
    "        info = load_ticker_info(path_parent / se / t / 'info.json')\n",
    "        if info is not None:\n",
    "            info_dict[se][t] = info['industryKey']\n",
    "        else:\n",
    "            info_dict[se][t] = None\n",
    "        time.sleep(0.5)"
   ]
  }
 ],
 "metadata": {
  "kernelspec": {
   "display_name": "Python 3",
   "language": "python",
   "name": "python3"
  },
  "language_info": {
   "codemirror_mode": {
    "name": "ipython",
    "version": 3
   },
   "file_extension": ".py",
   "mimetype": "text/x-python",
   "name": "python",
   "nbconvert_exporter": "python",
   "pygments_lexer": "ipython3",
   "version": "3.11.11"
  }
 },
 "nbformat": 4,
 "nbformat_minor": 2
}
